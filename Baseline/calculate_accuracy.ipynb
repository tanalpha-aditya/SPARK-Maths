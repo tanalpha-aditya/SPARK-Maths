{
 "cells": [
  {
   "cell_type": "code",
   "execution_count": 4,
   "metadata": {},
   "outputs": [
    {
     "name": "stdout",
     "output_type": "stream",
     "text": [
      "Matched Questions: 1769\n",
      "Correct Matches: 596\n",
      "Accuracy: 33.69%\n"
     ]
    },
    {
     "data": {
      "text/plain": [
       "np.float64(33.69135104578858)"
      ]
     },
     "execution_count": 4,
     "metadata": {},
     "output_type": "execute_result"
    }
   ],
   "source": [
    "import pandas as pd\n",
    "\n",
    "def calculate_accuracy(csv1, csv2):\n",
    "    \"\"\"\n",
    "    Compares the 'Answer' column of two CSV files where the 'Question' column matches\n",
    "    and calculates accuracy.\n",
    "    \n",
    "    :param csv1: Path to the first CSV file\n",
    "    :param csv2: Path to the second CSV file\n",
    "    :return: Accuracy as a percentage\n",
    "    \"\"\"\n",
    "    \n",
    "    # Load both CSVs\n",
    "    df1 = pd.read_csv(csv1)\n",
    "    df2 = pd.read_csv(csv2)\n",
    "    \n",
    "    # Merge both DataFrames on 'Question' to align answers\n",
    "    merged_df = pd.merge(df1, df2, on=\"question\", how=\"inner\", suffixes=(\"_1\", \"_2\"))\n",
    "    \n",
    "    # Count correct answers (exact match)\n",
    "    correct_matches = (merged_df[\"Answer_1\"] == merged_df[\"Answer_2\"]).sum()\n",
    "    \n",
    "    # Total matched questions\n",
    "    total_questions = len(merged_df)\n",
    "    \n",
    "    # Calculate accuracy\n",
    "    accuracy = (correct_matches / total_questions) * 100 if total_questions > 0 else 0\n",
    "    \n",
    "    print(f\"Matched Questions: {total_questions}\")\n",
    "    print(f\"Correct Matches: {correct_matches}\")\n",
    "    print(f\"Accuracy: {accuracy:.2f}%\")\n",
    "    \n",
    "    return accuracy\n",
    "\n",
    "# Example usage\n",
    "csv2_path = \"/Users/tanalpha_aditya/Desktop/ALM/Project/SPARK-Maths/Dataset/MATH/Processed_MATH_with_answer/output_dataset_with_answers2_final.csv\"  # Replace with actual path\n",
    "csv1_path = \"/Users/tanalpha_aditya/Desktop/ALM/Project/SPARK-Maths/Baseline/GPT4->Gemini/Results/MATH/output_dataset_with_answers_gemini.csv\"  # Replace with actual path\n",
    "\n",
    "calculate_accuracy(csv1_path, csv2_path)\n"
   ]
  },
  {
   "cell_type": "code",
   "execution_count": null,
   "metadata": {},
   "outputs": [],
   "source": []
  }
 ],
 "metadata": {
  "kernelspec": {
   "display_name": "Python (CV)",
   "language": "python",
   "name": "cv"
  },
  "language_info": {
   "codemirror_mode": {
    "name": "ipython",
    "version": 3
   },
   "file_extension": ".py",
   "mimetype": "text/x-python",
   "name": "python",
   "nbconvert_exporter": "python",
   "pygments_lexer": "ipython3",
   "version": "3.9.21"
  }
 },
 "nbformat": 4,
 "nbformat_minor": 2
}
