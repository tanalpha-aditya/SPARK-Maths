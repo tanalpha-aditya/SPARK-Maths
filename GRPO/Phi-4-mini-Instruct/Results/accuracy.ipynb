{
 "cells": [
  {
   "cell_type": "code",
   "execution_count": 7,
   "metadata": {},
   "outputs": [
    {
     "name": "stdout",
     "output_type": "stream",
     "text": [
      "Correct: 163\n",
      "Incorrect: 326\n",
      "Accuracy: 0.3333\n"
     ]
    }
   ],
   "source": [
    "import json\n",
    "\n",
    "# Load the JSON file\n",
    "with open('math500_test_results.json', 'r') as file:\n",
    "    data = json.load(file)\n",
    "\n",
    "# Initialize counters\n",
    "true_count = 0\n",
    "false_count = 0\n",
    "\n",
    "# Count true and false values\n",
    "for item in data:\n",
    "    if item.get(\"is_correct\") == True:\n",
    "        true_count += 1\n",
    "    elif item.get(\"is_correct\") == False:\n",
    "        false_count += 1\n",
    "\n",
    "# Calculate accuracy\n",
    "total = true_count + false_count\n",
    "accuracy = true_count / total if total > 0 else 0\n",
    "\n",
    "# Print results\n",
    "print(f\"Correct: {true_count}\")\n",
    "print(f\"Incorrect: {false_count}\")\n",
    "print(f\"Accuracy: {accuracy:.4f}\")\n"
   ]
  },
  {
   "cell_type": "code",
   "execution_count": null,
   "metadata": {},
   "outputs": [],
   "source": []
  }
 ],
 "metadata": {
  "kernelspec": {
   "display_name": "Python (CV)",
   "language": "python",
   "name": "cv"
  },
  "language_info": {
   "codemirror_mode": {
    "name": "ipython",
    "version": 3
   },
   "file_extension": ".py",
   "mimetype": "text/x-python",
   "name": "python",
   "nbconvert_exporter": "python",
   "pygments_lexer": "ipython3",
   "version": "3.9.21"
  }
 },
 "nbformat": 4,
 "nbformat_minor": 2
}
