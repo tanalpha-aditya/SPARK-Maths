{
 "cells": [
  {
   "cell_type": "code",
   "execution_count": 1,
   "metadata": {},
   "outputs": [
    {
     "name": "stdout",
     "output_type": "stream",
     "text": [
      "Serial numbers added successfully!\n"
     ]
    }
   ],
   "source": [
    "import pandas as pd\n",
    "\n",
    "# Load the CSV file\n",
    "df = pd.read_csv(\"test_combined.csv\")\n",
    "\n",
    "# Insert a serial number column at the beginning\n",
    "df.insert(0, \"Serial Number\", range(1, len(df) + 1))\n",
    "\n",
    "# Save the updated CSV file\n",
    "df.to_csv(\"test_serial.csv\", index=False)\n",
    "\n",
    "print(\"Serial numbers added successfully!\")"
   ]
  },
  {
   "cell_type": "code",
   "execution_count": 1,
   "metadata": {},
   "outputs": [
    {
     "name": "stdout",
     "output_type": "stream",
     "text": [
      "      Serial Number                                           question  \\\n",
      "2                 3  Each good worker can paint my new house alone ...   \n",
      "3                 4  At the national curling championships, there a...   \n",
      "5                 6  In triangle $PQR$, point $T$ is on $PR$ and po...   \n",
      "8                 9  How many positive integers are factors of 120 ...   \n",
      "11               12                         Simplify $(2x+5)-(-3x+8)$.   \n",
      "...             ...                                                ...   \n",
      "4993           4994  For a complex number $z,$ compute the minimum ...   \n",
      "4994           4995  Find the maximum value of\\n\\[\\frac{x - y}{x^4 ...   \n",
      "4995           4996  Compute the smallest positive integer $x$ grea...   \n",
      "4996           4997  For positive real numbers $a,$ $b,$ $c,$ and $...   \n",
      "4997           4998  Let $a,$ $b,$ and $c$ be positive real numbers...   \n",
      "\n",
      "                                               solution    level  \\\n",
      "2     Each good worker can paint $1/12$ of my house ...  Level 5   \n",
      "3     For each participant, there are 8 opponents to...  Level 5   \n",
      "5     [asy]\\npair P,Q,R,SS,T;\\nQ = (0,0);\\nR = (1,0)...  Level 4   \n",
      "8     Because 120 is a multiple of 40, every divisor...  Level 4   \n",
      "11    We have $$(2x+5)-(-3x+8)=2x+5+3x-8=(2x+3x)+(5-...  Level 4   \n",
      "...                                                 ...      ...   \n",
      "4993  Geometrically, $|z + 5 - 3i|$ is the distance ...  Level 4   \n",
      "4994  Clearly, the maximum occurs when $x$ is positi...  Level 5   \n",
      "4995  Let $q$ and $r$ be the remainder when $x$ is d...  Level 4   \n",
      "4996  Let $S$ denote the given sum.  First, we apply...  Level 5   \n",
      "4997  By AM-GM,\\n\\[(a - b) + b + \\frac{c^3}{(a - b)b...  Level 5   \n",
      "\n",
      "                      type  \n",
      "2               Prealgebra  \n",
      "3               Prealgebra  \n",
      "5               Prealgebra  \n",
      "8               Prealgebra  \n",
      "11              Prealgebra  \n",
      "...                    ...  \n",
      "4993  Intermediate Algebra  \n",
      "4994  Intermediate Algebra  \n",
      "4995  Intermediate Algebra  \n",
      "4996  Intermediate Algebra  \n",
      "4997  Intermediate Algebra  \n",
      "\n",
      "[2538 rows x 5 columns]\n"
     ]
    }
   ],
   "source": [
    "import pandas as pd\n",
    "\n",
    "# Load the dataset\n",
    "df = pd.read_csv(\"test_serial.csv\")\n",
    "\n",
    "# Filter rows where 'level' is either 'Level 4' or 'Level 5'\n",
    "filtered_df = df[df['level'].isin(['Level 4', 'Level 5'])]\n",
    "\n",
    "# Save the filtered dataset\n",
    "filtered_df.to_csv(\"filtered_test_serial.csv\", index=False)\n",
    "\n",
    "# Display the filtered dataset\n",
    "print(filtered_df)\n"
   ]
  },
  {
   "cell_type": "code",
   "execution_count": null,
   "metadata": {},
   "outputs": [],
   "source": []
  }
 ],
 "metadata": {
  "kernelspec": {
   "display_name": "pdf_extractor",
   "language": "python",
   "name": "python3"
  },
  "language_info": {
   "codemirror_mode": {
    "name": "ipython",
    "version": 3
   },
   "file_extension": ".py",
   "mimetype": "text/x-python",
   "name": "python",
   "nbconvert_exporter": "python",
   "pygments_lexer": "ipython3",
   "version": "3.9.18"
  }
 },
 "nbformat": 4,
 "nbformat_minor": 2
}
