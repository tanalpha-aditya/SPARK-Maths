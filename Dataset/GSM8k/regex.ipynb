{
 "cells": [
  {
   "cell_type": "code",
   "execution_count": 6,
   "metadata": {},
   "outputs": [
    {
     "name": "stdout",
     "output_type": "stream",
     "text": [
      "\n",
      "✅ Updated CSV saved as modified/socratic_train.csv\n"
     ]
    }
   ],
   "source": [
    "import pandas as pd\n",
    "import re\n",
    "\n",
    "# Define input and output file paths\n",
    "input_file = \"original/socratic_train.csv\"   # Input CSV file\n",
    "output_file = \"modified/socratic_train.csv\"  # Final output CSV file\n",
    "\n",
    "# Load input CSV\n",
    "df = pd.read_csv(input_file)\n",
    "\n",
    "# Regex pattern to find the last number, especially after \"####\"\n",
    "number_pattern = re.compile(r\"[-+]?\\d*\\.?\\d+(?=\\D*$)\")  # Matches the last number in the text\n",
    "\n",
    "# Function to extract the final numerical value\n",
    "def extract_final_value(answer):\n",
    "    match = number_pattern.search(answer)\n",
    "    return (match.group()) if match else None  # Convert to float if found\n",
    "\n",
    "# Apply regex extraction to each row\n",
    "df[\"value\"] = df[\"answer\"].apply(extract_final_value)\n",
    "\n",
    "# Save the updated CSV\n",
    "df.to_csv(output_file, index=False)\n",
    "\n",
    "print(f\"\\n✅ Updated CSV saved as {output_file}\")\n"
   ]
  },
  {
   "cell_type": "code",
   "execution_count": null,
   "metadata": {},
   "outputs": [],
   "source": []
  }
 ],
 "metadata": {
  "kernelspec": {
   "display_name": "pdf_extractor",
   "language": "python",
   "name": "python3"
  },
  "language_info": {
   "codemirror_mode": {
    "name": "ipython",
    "version": 3
   },
   "file_extension": ".py",
   "mimetype": "text/x-python",
   "name": "python",
   "nbconvert_exporter": "python",
   "pygments_lexer": "ipython3",
   "version": "3.9.18"
  }
 },
 "nbformat": 4,
 "nbformat_minor": 2
}
